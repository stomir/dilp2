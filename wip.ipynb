{
 "cells": [
  {
   "cell_type": "code",
   "execution_count": 1,
   "metadata": {},
   "outputs": [
    {
     "ename": "ModuleNotFoundError",
     "evalue": "No module named 'torch'",
     "output_type": "error",
     "traceback": [
      "\u001b[1;31m---------------------------------------------------------------------------\u001b[0m",
      "\u001b[1;31mModuleNotFoundError\u001b[0m                       Traceback (most recent call last)",
      "\u001b[1;32mc:\\Users\\poczt\\dilp2\\wip.ipynb Cell 1'\u001b[0m in \u001b[0;36m<module>\u001b[1;34m\u001b[0m\n\u001b[1;32m----> <a href='vscode-notebook-cell:/c%3A/Users/poczt/dilp2/wip.ipynb#ch0000000?line=0'>1</a>\u001b[0m \u001b[39mimport\u001b[39;00m \u001b[39mtorch\u001b[39;00m\n\u001b[0;32m      <a href='vscode-notebook-cell:/c%3A/Users/poczt/dilp2/wip.ipynb#ch0000000?line=1'>2</a>\u001b[0m \u001b[39mimport\u001b[39;00m \u001b[39mlogging\u001b[39;00m\n\u001b[0;32m      <a href='vscode-notebook-cell:/c%3A/Users/poczt/dilp2/wip.ipynb#ch0000000?line=2'>3</a>\u001b[0m \u001b[39mfrom\u001b[39;00m \u001b[39mtyping\u001b[39;00m \u001b[39mimport\u001b[39;00m \u001b[39m*\u001b[39m\n",
      "\u001b[1;31mModuleNotFoundError\u001b[0m: No module named 'torch'"
     ]
    }
   ],
   "source": [
    "import torch\n",
    "import logging\n",
    "from typing import *"
   ]
  },
  {
   "cell_type": "code",
   "execution_count": null,
   "metadata": {},
   "outputs": [],
   "source": [
    "logging.getLogger().setLevel(logging.DEBUG)"
   ]
  },
  {
   "cell_type": "code",
   "execution_count": null,
   "metadata": {},
   "outputs": [],
   "source": [
    "base_val = torch.as_tensor([\n",
    "    [ #false\n",
    "        [0,0,0,0,0],\n",
    "        [0,0,0,0,0],\n",
    "        [0,0,0,0,0],\n",
    "        [0,0,0,0,0],\n",
    "        [0,0,0,0,0],\n",
    "    ], [ #succ\n",
    "        [0,1,0,0,0],\n",
    "        [0,0,1,0,0],\n",
    "        [0,0,0,1,0],\n",
    "        [0,0,0,0,1],\n",
    "        [0,0,0,0,0]\n",
    "    ], [ #p\n",
    "        [0,0,0,0,0],\n",
    "        [0,0,0,0,0],\n",
    "        [0,0,0,0,0],\n",
    "        [0,0,0,0,0],\n",
    "        [0,0,0,0,0],\n",
    "    ], [ #q\n",
    "        [0,0,0,0,0],\n",
    "        [0,0,0,0,0],\n",
    "        [0,0,0,0,0],\n",
    "        [0,0,0,0,0],\n",
    "        [0,0,0,0,0],\n",
    "    ]\n",
    "], dtype=torch.float)"
   ]
  },
  {
   "cell_type": "code",
   "execution_count": null,
   "metadata": {},
   "outputs": [],
   "source": [
    "\n",
    "class Rulebook(NamedTuple):\n",
    "    body_predicates : torch.Tensor\n",
    "    variable_choices : torch.Tensor\n",
    "\n",
    "    def to(self, device : torch.device):\n",
    "        self.body_predicates = self.body_predicates.to(device)\n",
    "        self.variable_choices = self.variable_choices.to(device)\n"
   ]
  },
  {
   "cell_type": "code",
   "execution_count": null,
   "metadata": {},
   "outputs": [],
   "source": [
    "rulebook = Rulebook(\n",
    "        body_predicates=torch.as_tensor([\n",
    "            [[[0,0] for _ in range(0,11)] for _ in range(0,2)],\n",
    "            [[[0,0] for _ in range(0,11)] for _ in range(0,2)],\n",
    "            [[[1,1],[1,1],[1,1],[1,1],[3,3],[2,0],[1,1],[0,0],[1,2],[2,1],[2,2]] for _ in range(0,2)],\n",
    "            [[[1,1],[1,1],[1,1],[1,1],[3,3],[2,0],[1,1],[0,0],[1,2],[2,1],[2,2]] for _ in range(0,2)],\n",
    "        ]),\n",
    "        variable_choices=torch.as_tensor([\n",
    "            [[[0,0] for _ in range(0,11)] for _ in range(0,2)],\n",
    "            [[[0,0] for _ in range(0,11)] for _ in range(0,2)],\n",
    "            [[[0,0],[1,0],[2,7],[5,4],[3,3],[2,0],[1,1],[0,0],[1,2],[2,1],[2,2]] for _ in range(0,2)],\n",
    "            [[[0,0],[1,0],[2,7],[5,4],[3,3],[2,0],[1,1],[0,0],[1,2],[2,1],[2,2]] for _ in range(0,2)],\n",
    "        ])\n",
    "    )"
   ]
  },
  {
   "cell_type": "code",
   "execution_count": null,
   "metadata": {},
   "outputs": [],
   "source": [
    "pred_names = ['false', 'succ', 'p', 'q']\n",
    "def var_choices(n : int, vars : int = 3) -> List[int]:\n",
    "    return [int(n) // vars, n % vars]\n",
    "def rule_str(rs : List[int], predicate : int, rulebook : Rulebook) -> str:\n",
    "    lines = []\n",
    "    for clause in range(0, rulebook.body_predicates.shape[1]):\n",
    "        ret = []\n",
    "        for i in range(0, rulebook.body_predicates.shape[3]):\n",
    "            vs = ','.join(map(lambda v: chr(ord('A')+v),  var_choices(rulebook.variable_choices[predicate,clause,rs[clause],i])))\n",
    "            ret.append(f'{pred_names[rulebook.body_predicates[predicate,clause,rs[clause],i]]}({vs})')\n",
    "        lines.append(f\"{pred_names[predicate]}(A, B) :- {','.join(ret)}\")\n",
    "    return '\\n'.join(lines)"
   ]
  },
  {
   "cell_type": "code",
   "execution_count": null,
   "metadata": {},
   "outputs": [
    {
     "name": "stdout",
     "output_type": "stream",
     "text": [
      "p(A, B) :- succ(A,C),succ(C,B)\n",
      "p(A, B) :- succ(B,C),succ(B,B)\n"
     ]
    }
   ],
   "source": [
    "print(rule_str([2,3], predicate=2, rulebook = rulebook))"
   ]
  },
  {
   "cell_type": "code",
   "execution_count": null,
   "metadata": {},
   "outputs": [],
   "source": [
    "def extend_val(val : torch.Tensor, vars : int = 3) -> torch.Tensor:\n",
    "    i = 0\n",
    "    ret = []\n",
    "    shape = list(val.shape) + [val.shape[-1] for _ in range(0, vars - 2)]\n",
    "    valt = val.transpose(1, 2)\n",
    "    for arg1 in range(0, vars):\n",
    "        for arg2 in range(0, vars):\n",
    "            v = val\n",
    "            if arg1 == arg2:\n",
    "                v = v.diagonal(dim1=1,dim2=2)\n",
    "                for _ in range(0, arg1):\n",
    "                    v = v.unsqueeze(1)\n",
    "                while len(v.shape) < vars+1:\n",
    "                    v = v.unsqueeze(-1)\n",
    "            else:\n",
    "                if arg2 < arg1:\n",
    "                    v = valt\n",
    "                unused = (x for x in range(0, vars) if x not in {arg1, arg2})\n",
    "                for u in unused:\n",
    "                    v = v.unsqueeze(u + 1)\n",
    "            logging.debug(f\"{i=} {arg1=} {arg2=} {v.shape=}\")\n",
    "            v = torch.broadcast_to(v, shape) #type: ignore\n",
    "            v = v.unsqueeze(1)\n",
    "            ret.append(v)\n",
    "            i += 1\n",
    "    return torch.cat(ret, dim=1)"
   ]
  },
  {
   "cell_type": "code",
   "execution_count": null,
   "metadata": {},
   "outputs": [
    {
     "name": "stderr",
     "output_type": "stream",
     "text": [
      "DEBUG:root:i=0 arg1=0 arg2=0 v.shape=torch.Size([4, 5, 1, 1])\n",
      "DEBUG:root:i=1 arg1=0 arg2=1 v.shape=torch.Size([4, 5, 5, 1])\n",
      "DEBUG:root:i=2 arg1=0 arg2=2 v.shape=torch.Size([4, 5, 1, 5])\n",
      "DEBUG:root:i=3 arg1=1 arg2=0 v.shape=torch.Size([4, 5, 5, 1])\n",
      "DEBUG:root:i=4 arg1=1 arg2=1 v.shape=torch.Size([4, 1, 5, 1])\n",
      "DEBUG:root:i=5 arg1=1 arg2=2 v.shape=torch.Size([4, 1, 5, 5])\n",
      "DEBUG:root:i=6 arg1=2 arg2=0 v.shape=torch.Size([4, 5, 1, 5])\n",
      "DEBUG:root:i=7 arg1=2 arg2=1 v.shape=torch.Size([4, 1, 5, 5])\n",
      "DEBUG:root:i=8 arg1=2 arg2=2 v.shape=torch.Size([4, 1, 1, 5])\n"
     ]
    },
    {
     "data": {
      "text/plain": [
       "torch.Size([4, 9, 5, 5, 5])"
      ]
     },
     "execution_count": 50,
     "metadata": {},
     "output_type": "execute_result"
    }
   ],
   "source": [
    "val2 = extend_val(base_val)\n",
    "val2.shape"
   ]
  },
  {
   "cell_type": "code",
   "execution_count": null,
   "metadata": {},
   "outputs": [
    {
     "data": {
      "text/plain": [
       "(torch.Size([90]), torch.Size([90]))"
      ]
     },
     "execution_count": 51,
     "metadata": {},
     "output_type": "execute_result"
    }
   ],
   "source": [
    "bp = torch.arange(0,3, dtype=torch.long).repeat(30)\n",
    "vc = torch.arange(0,9,dtype=torch.long).repeat(10)\n",
    "bp.shape, vc.shape"
   ]
  },
  {
   "cell_type": "code",
   "execution_count": null,
   "metadata": {},
   "outputs": [
    {
     "name": "stdout",
     "output_type": "stream",
     "text": [
      "torch.Size([1, 1, 90, 5, 5, 5]) torch.Size([2, 2, 90, 1, 1, 1])\n"
     ]
    }
   ],
   "source": [
    "val2.shape, val2[bp,vc].shape\n",
    "weights = torch.rand(2,2,90).softmax(-1)\n",
    "weights = weights.unsqueeze(-1).unsqueeze(-1).unsqueeze(-1)\n",
    "val3 = val2[bp,vc].unsqueeze(0).unsqueeze(0)\n",
    "print(val3.shape, weights.shape)\n",
    "val4 = val3 * weights"
   ]
  },
  {
   "cell_type": "code",
   "execution_count": null,
   "metadata": {},
   "outputs": [],
   "source": [
    "def disjuction2(a : torch.Tensor, b : torch.Tensor) -> torch.Tensor:\n",
    "    return 1 - (1 - a) * (1 - b)\n",
    "\n",
    "def disjunction_dim(a : torch.Tensor, dim : int = -1) -> torch.Tensor:\n",
    "    return 1 - ((1 - a).prod(dim = dim))"
   ]
  },
  {
   "cell_type": "code",
   "execution_count": null,
   "metadata": {},
   "outputs": [],
   "source": [
    "\n",
    "def conjuction2(a : torch.Tensor, b : torch.Tensor) -> torch.Tensor:\n",
    "    return a * b\n",
    "def conjunction_dim(a : torch.Tensor, dim : int = -1) -> torch.Tensor:\n",
    "    return a.prod(dim=dim)"
   ]
  },
  {
   "cell_type": "code",
   "execution_count": null,
   "metadata": {},
   "outputs": [
    {
     "data": {
      "text/plain": [
       "1"
      ]
     },
     "execution_count": 55,
     "metadata": {},
     "output_type": "execute_result"
    }
   ],
   "source": [
    "disjuction2(0, 1)"
   ]
  },
  {
   "cell_type": "code",
   "execution_count": null,
   "metadata": {},
   "outputs": [],
   "source": [
    "def infer_single_step(ex_val : torch.Tensor, rules : Rulebook, rule_weights : torch.Tensor) -> torch.Tensor:\n",
    "    logging.debug(f\"{ex_val.shape=} {rules.body_predicates.shape=} {rules.variable_choices.shape=}\")\n",
    "    ex_val = ex_val[rules.body_predicates, rules.variable_choices]\n",
    "    logging.debug(f\"{ex_val.shape=}\")\n",
    "    #conjuction of body predictes\n",
    "    ex_val = conjunction_dim(ex_val, dim = 3)\n",
    "    #existential quantification\n",
    "    ex_val = disjunction_dim(ex_val, dim = -1)\n",
    "    #rule weighing\n",
    "    rule_weights = rule_weights.softmax(-1).unsqueeze(-1).unsqueeze(-1)\n",
    "    ex_val = ex_val * rule_weights\n",
    "    ex_val = ex_val.sum(dim = 2)\n",
    "    #disjunction on clauses\n",
    "    ex_val = disjunction_dim(ex_val, dim = 1)\n",
    "    return ex_val"
   ]
  },
  {
   "cell_type": "code",
   "execution_count": null,
   "metadata": {},
   "outputs": [
    {
     "name": "stderr",
     "output_type": "stream",
     "text": [
      "DEBUG:root:ex_val.shape=torch.Size([4, 9, 5, 5, 5]) rules.body_predicates.shape=torch.Size([1, 2, 11, 2]) rules.variable_choices.shape=torch.Size([1, 2, 11, 2])\n",
      "DEBUG:root:ex_val.shape=torch.Size([1, 2, 11, 2, 5, 5, 5])\n"
     ]
    },
    {
     "data": {
      "text/plain": [
       "torch.Size([4, 5, 5])"
      ]
     },
     "execution_count": 57,
     "metadata": {},
     "output_type": "execute_result"
    }
   ],
   "source": [
    "infer_single_step(val2, rulebook2, torch.rand(4,2,11)).shape"
   ]
  },
  {
   "cell_type": "code",
   "execution_count": null,
   "metadata": {},
   "outputs": [
    {
     "name": "stderr",
     "output_type": "stream",
     "text": [
      "DEBUG:root:i=0 arg1=0 arg2=0 v.shape=torch.Size([4, 5, 1, 1])\n",
      "DEBUG:root:i=1 arg1=0 arg2=1 v.shape=torch.Size([4, 5, 5, 1])\n",
      "DEBUG:root:i=2 arg1=0 arg2=2 v.shape=torch.Size([4, 5, 1, 5])\n",
      "DEBUG:root:i=3 arg1=1 arg2=0 v.shape=torch.Size([4, 5, 5, 1])\n",
      "DEBUG:root:i=4 arg1=1 arg2=1 v.shape=torch.Size([4, 1, 5, 1])\n",
      "DEBUG:root:i=5 arg1=1 arg2=2 v.shape=torch.Size([4, 1, 5, 5])\n",
      "DEBUG:root:i=6 arg1=2 arg2=0 v.shape=torch.Size([4, 5, 1, 5])\n",
      "DEBUG:root:i=7 arg1=2 arg2=1 v.shape=torch.Size([4, 1, 5, 5])\n",
      "DEBUG:root:i=8 arg1=2 arg2=2 v.shape=torch.Size([4, 1, 1, 5])\n",
      "DEBUG:root:ex_val.shape=torch.Size([4, 9, 5, 5, 5]) rules.body_predicates.shape=torch.Size([4, 2, 11, 2]) rules.variable_choices.shape=torch.Size([4, 2, 11, 2])\n",
      "DEBUG:root:ex_val.shape=torch.Size([4, 2, 11, 2, 5, 5, 5])\n",
      "DEBUG:root:i=0 arg1=0 arg2=0 v.shape=torch.Size([4, 5, 1, 1])\n",
      "DEBUG:root:i=1 arg1=0 arg2=1 v.shape=torch.Size([4, 5, 5, 1])\n",
      "DEBUG:root:i=2 arg1=0 arg2=2 v.shape=torch.Size([4, 5, 1, 5])\n",
      "DEBUG:root:i=3 arg1=1 arg2=0 v.shape=torch.Size([4, 5, 5, 1])\n",
      "DEBUG:root:i=4 arg1=1 arg2=1 v.shape=torch.Size([4, 1, 5, 1])\n",
      "DEBUG:root:i=5 arg1=1 arg2=2 v.shape=torch.Size([4, 1, 5, 5])\n",
      "DEBUG:root:i=6 arg1=2 arg2=0 v.shape=torch.Size([4, 5, 1, 5])\n",
      "DEBUG:root:i=7 arg1=2 arg2=1 v.shape=torch.Size([4, 1, 5, 5])\n",
      "DEBUG:root:i=8 arg1=2 arg2=2 v.shape=torch.Size([4, 1, 1, 5])\n",
      "DEBUG:root:ex_val.shape=torch.Size([4, 9, 5, 5, 5]) rules.body_predicates.shape=torch.Size([4, 2, 11, 2]) rules.variable_choices.shape=torch.Size([4, 2, 11, 2])\n",
      "DEBUG:root:ex_val.shape=torch.Size([4, 2, 11, 2, 5, 5, 5])\n",
      "DEBUG:root:i=0 arg1=0 arg2=0 v.shape=torch.Size([4, 5, 1, 1])\n",
      "DEBUG:root:i=1 arg1=0 arg2=1 v.shape=torch.Size([4, 5, 5, 1])\n",
      "DEBUG:root:i=2 arg1=0 arg2=2 v.shape=torch.Size([4, 5, 1, 5])\n",
      "DEBUG:root:i=3 arg1=1 arg2=0 v.shape=torch.Size([4, 5, 5, 1])\n",
      "DEBUG:root:i=4 arg1=1 arg2=1 v.shape=torch.Size([4, 1, 5, 1])\n",
      "DEBUG:root:i=5 arg1=1 arg2=2 v.shape=torch.Size([4, 1, 5, 5])\n",
      "DEBUG:root:i=6 arg1=2 arg2=0 v.shape=torch.Size([4, 5, 1, 5])\n",
      "DEBUG:root:i=7 arg1=2 arg2=1 v.shape=torch.Size([4, 1, 5, 5])\n",
      "DEBUG:root:i=8 arg1=2 arg2=2 v.shape=torch.Size([4, 1, 1, 5])\n",
      "DEBUG:root:ex_val.shape=torch.Size([4, 9, 5, 5, 5]) rules.body_predicates.shape=torch.Size([4, 2, 11, 2]) rules.variable_choices.shape=torch.Size([4, 2, 11, 2])\n",
      "DEBUG:root:ex_val.shape=torch.Size([4, 2, 11, 2, 5, 5, 5])\n",
      "DEBUG:root:i=0 arg1=0 arg2=0 v.shape=torch.Size([4, 5, 1, 1])\n",
      "DEBUG:root:i=1 arg1=0 arg2=1 v.shape=torch.Size([4, 5, 5, 1])\n",
      "DEBUG:root:i=2 arg1=0 arg2=2 v.shape=torch.Size([4, 5, 1, 5])\n",
      "DEBUG:root:i=3 arg1=1 arg2=0 v.shape=torch.Size([4, 5, 5, 1])\n",
      "DEBUG:root:i=4 arg1=1 arg2=1 v.shape=torch.Size([4, 1, 5, 1])\n",
      "DEBUG:root:i=5 arg1=1 arg2=2 v.shape=torch.Size([4, 1, 5, 5])\n",
      "DEBUG:root:i=6 arg1=2 arg2=0 v.shape=torch.Size([4, 5, 1, 5])\n",
      "DEBUG:root:i=7 arg1=2 arg2=1 v.shape=torch.Size([4, 1, 5, 5])\n",
      "DEBUG:root:i=8 arg1=2 arg2=2 v.shape=torch.Size([4, 1, 1, 5])\n",
      "DEBUG:root:ex_val.shape=torch.Size([4, 9, 5, 5, 5]) rules.body_predicates.shape=torch.Size([4, 2, 11, 2]) rules.variable_choices.shape=torch.Size([4, 2, 11, 2])\n",
      "DEBUG:root:ex_val.shape=torch.Size([4, 2, 11, 2, 5, 5, 5])\n",
      "DEBUG:root:i=0 arg1=0 arg2=0 v.shape=torch.Size([4, 5, 1, 1])\n",
      "DEBUG:root:i=1 arg1=0 arg2=1 v.shape=torch.Size([4, 5, 5, 1])\n",
      "DEBUG:root:i=2 arg1=0 arg2=2 v.shape=torch.Size([4, 5, 1, 5])\n",
      "DEBUG:root:i=3 arg1=1 arg2=0 v.shape=torch.Size([4, 5, 5, 1])\n",
      "DEBUG:root:i=4 arg1=1 arg2=1 v.shape=torch.Size([4, 1, 5, 1])\n",
      "DEBUG:root:i=5 arg1=1 arg2=2 v.shape=torch.Size([4, 1, 5, 5])\n",
      "DEBUG:root:i=6 arg1=2 arg2=0 v.shape=torch.Size([4, 5, 1, 5])\n",
      "DEBUG:root:i=7 arg1=2 arg2=1 v.shape=torch.Size([4, 1, 5, 5])\n",
      "DEBUG:root:i=8 arg1=2 arg2=2 v.shape=torch.Size([4, 1, 1, 5])\n",
      "DEBUG:root:ex_val.shape=torch.Size([4, 9, 5, 5, 5]) rules.body_predicates.shape=torch.Size([4, 2, 11, 2]) rules.variable_choices.shape=torch.Size([4, 2, 11, 2])\n",
      "DEBUG:root:ex_val.shape=torch.Size([4, 2, 11, 2, 5, 5, 5])\n"
     ]
    }
   ],
   "source": [
    "val = base_val\n",
    "weights = torch.rand(4, 2, 11)\n",
    "        #predicate, clause, rule\n",
    "for _ in range(0,5):\n",
    "    val2 = extend_val(val)\n",
    "    val2 = infer_single_step(val2, rulebook, weights)\n",
    "    val = disjuction2(val, val2)\n",
    "    del val2"
   ]
  },
  {
   "cell_type": "code",
   "execution_count": null,
   "metadata": {},
   "outputs": [
    {
     "data": {
      "text/plain": [
       "torch.Size([4, 5, 5])"
      ]
     },
     "execution_count": 59,
     "metadata": {},
     "output_type": "execute_result"
    }
   ],
   "source": [
    "val.shape"
   ]
  },
  {
   "cell_type": "code",
   "execution_count": null,
   "metadata": {},
   "outputs": [],
   "source": [
    "targets = torch.as_tensor([\n",
    "        [2,0,2],\n",
    "        [2,1,3],\n",
    "        [2,2,4],\n",
    "        [2,1,1],\n",
    "        [2,3,2],\n",
    "        [2,0,0],\n",
    "        [2,0,1]\n",
    "    ])\n",
    "target_values = torch.as_tensor([\n",
    "        1.0,\n",
    "        1.0,\n",
    "        1.0,\n",
    "        0.0,\n",
    "        0.0,\n",
    "        0.0,\n",
    "        0.0,])\n"
   ]
  },
  {
   "cell_type": "code",
   "execution_count": null,
   "metadata": {},
   "outputs": [],
   "source": [
    "def merge_pad(ts : List[torch.Tensor], dim : int = 0, newdim : int = 0) -> torch.Tensor:\n",
    "    max_len = max(len(t) for t in ts)\n",
    "    def required_shape(t : torch.Tensor) -> List[int]:\n",
    "        ret = list(t.shape)\n",
    "        ret[dim] = max_len - ret[dim]\n",
    "        return ret\n",
    "    ts = (torch.cat((t, torch.zeros(size=required_shape(t), device=t.device)), dim=dim).unsqueeze(newdim) for t in ts)\n",
    "    return torch.cat(list(ts), dim=newdim)"
   ]
  },
  {
   "cell_type": "code",
   "execution_count": null,
   "metadata": {},
   "outputs": [],
   "source": [
    "def merge_mask(ts : List[torch.Tensor], dim : int = 0, newdim : int = 0) -> torch.Tensor:\n",
    "    max_len = max(len(t) for t in ts)\n",
    "    def required_shape(t : torch.Tensor) -> List[int]:\n",
    "        ret = list(t.shape)\n",
    "        ret[dim] = max_len - ret[dim]\n",
    "        return ret\n",
    "    ts = (torch.cat((torch.zeros_like(t), \n",
    "        torch.as_tensor(-float('inf'), device=t.device).repeat(required_shape(t))), dim=dim).unsqueeze(newdim) for t in ts)\n",
    "    return torch.cat(list(ts), dim=newdim)"
   ]
  },
  {
   "cell_type": "code",
   "execution_count": null,
   "metadata": {},
   "outputs": [
    {
     "data": {
      "text/plain": [
       "tensor([[0., 0., -inf],\n",
       "        [0., -inf, -inf],\n",
       "        [0., 0., 0.]])"
      ]
     },
     "execution_count": 71,
     "metadata": {},
     "output_type": "execute_result"
    }
   ],
   "source": [
    "l = [[1,2],[3],[4,5,6]]\n",
    "l = list(torch.as_tensor(x) for x in l)\n",
    "merge_mask(l)"
   ]
  },
  {
   "cell_type": "code",
   "execution_count": null,
   "metadata": {},
   "outputs": [],
   "source": [
    "l"
   ]
  }
 ],
 "metadata": {
  "interpreter": {
   "hash": "df0893f56f349688326838aaeea0de204df53a132722cbd565e54b24a8fec5f6"
  },
  "kernelspec": {
   "display_name": "Python 3.8.12 64-bit",
   "language": "python",
   "name": "python3"
  },
  "language_info": {
   "codemirror_mode": {
    "name": "ipython",
    "version": 3
   },
   "file_extension": ".py",
   "mimetype": "text/x-python",
   "name": "python",
   "nbconvert_exporter": "python",
   "pygments_lexer": "ipython3",
   "version": "3.8.5"
  },
  "orig_nbformat": 4
 },
 "nbformat": 4,
 "nbformat_minor": 2
}
