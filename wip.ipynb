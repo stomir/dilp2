{
 "cells": [
  {
   "cell_type": "code",
   "execution_count": 12,
   "metadata": {},
   "outputs": [],
   "source": [
    "import torch\n",
    "import logging\n",
    "from typing import *"
   ]
  },
  {
   "cell_type": "code",
   "execution_count": 13,
   "metadata": {},
   "outputs": [],
   "source": [
    "logging.getLogger().setLevel(logging.DEBUG)"
   ]
  },
  {
   "cell_type": "code",
   "execution_count": 14,
   "metadata": {},
   "outputs": [],
   "source": [
    "base_val = torch.as_tensor([\n",
    "    [ #false\n",
    "        [0,0,0,0,0],\n",
    "        [0,0,0,0,0],\n",
    "        [0,0,0,0,0],\n",
    "        [0,0,0,0,0],\n",
    "        [0,0,0,0,0],\n",
    "    ], [ #succ\n",
    "        [0,1,0,0,0],\n",
    "        [0,0,1,0,0],\n",
    "        [0,0,0,1,0],\n",
    "        [0,0,0,0,1],\n",
    "        [0,0,0,0,0]\n",
    "    ], [ #p\n",
    "        [0,0,0,0,0],\n",
    "        [0,0,0,0,0],\n",
    "        [0,0,0,0,0],\n",
    "        [0,0,0,0,0],\n",
    "        [0,0,0,0,0],\n",
    "    ], [ #q\n",
    "        [0,0,0,0,0],\n",
    "        [0,0,0,0,0],\n",
    "        [0,0,0,0,0],\n",
    "        [0,0,0,0,0],\n",
    "        [0,0,0,0,0],\n",
    "    ]\n",
    "], dtype=torch.float)"
   ]
  },
  {
   "cell_type": "code",
   "execution_count": 15,
   "metadata": {},
   "outputs": [],
   "source": [
    "\n",
    "class Rulebook(NamedTuple):\n",
    "    body_predicates : torch.Tensor\n",
    "    variable_choices : torch.Tensor\n",
    "\n",
    "    def to(self, device : torch.device):\n",
    "        self.body_predicates = self.body_predicates.to(device)\n",
    "        self.variable_choices = self.variable_choices.to(device)\n"
   ]
  },
  {
   "cell_type": "code",
   "execution_count": 16,
   "metadata": {},
   "outputs": [],
   "source": [
    "body_predicates = torch.as_tensor([[0, 1, 1, 1, 1, 1, 2, 2, 2, 1, 1],\n",
    "                                    [0, 1, 1, 1, 0, 0, 2, 1, 0, 0, 2]])\n",
    "variable_choices = torch.as_tensor([[0, 1, 2, 3, 4, 5, 6, 7 ,0, 0, 2],\n",
    "                                    [0, 1, 7, 3, 3, 2, 6, 7 ,0, 7, 5]])\n"
   ]
  },
  {
   "cell_type": "code",
   "execution_count": 17,
   "metadata": {},
   "outputs": [],
   "source": [
    "rulebook = Rulebook(\n",
    "        body_predicates=torch.as_tensor([\n",
    "            [[[0,0] for _ in range(0,11)] for _ in range(0,2)],\n",
    "            [[[0,0] for _ in range(0,11)] for _ in range(0,2)],\n",
    "            [[[0,0] for _ in range(0,11)] for _ in range(0,2)],\n",
    "            [[[0,0] for _ in range(0,11)] for _ in range(0,2)],\n",
    "            [[[1,1],[1,1],[1,1],[1,1],[3,3],[2,0],[1,1],[0,0],[1,2],[2,1],[2,2]] for _ in range(0,2)],\n",
    "            [[[1,1],[1,1],[1,1],[1,1],[3,3],[2,0],[1,1],[0,0],[1,2],[2,1],[2,2]] for _ in range(0,2)],\n",
    "        ]),\n",
    "        variable_choices=torch.as_tensor([\n",
    "            [[[0,0] for _ in range(0,11)] for _ in range(0,2)],\n",
    "            [[[0,0] for _ in range(0,11)] for _ in range(0,2)],\n",
    "            [[[0,0],[1,0],[2,7],[5,4],[3,3],[2,0],[1,1],[0,0],[1,2],[2,1],[2,2]] for _ in range(0,2)],\n",
    "            [[[0,0],[1,0],[2,7],[5,4],[3,3],[2,0],[1,1],[0,0],[1,2],[2,1],[2,2]] for _ in range(0,2)],\n",
    "        ])\n",
    "    )"
   ]
  },
  {
   "cell_type": "code",
   "execution_count": 18,
   "metadata": {},
   "outputs": [],
   "source": [
    "pred_names = ['false', 'succ', 'p', 'q']\n",
    "def var_choices(n : int, vars : int = 3) -> List[int]:\n",
    "    return [int(n) // vars, n % vars]\n",
    "def rule_str(rs : List[int], predicate : int, rulebook : Rulebook) -> str:\n",
    "    lines = []\n",
    "    for clause in range(0, rulebook.body_predicates.shape[1]):\n",
    "        ret = []\n",
    "        for i in range(0, rulebook.body_predicates.shape[3]):\n",
    "            vs = ','.join(map(lambda v: chr(ord('A')+v),  var_choices(rulebook.variable_choices[predicate,clause,rs[clause],i])))\n",
    "            ret.append(f'{pred_names[rulebook.body_predicates[predicate,clause,rs[clause],i]]}({vs})')\n",
    "        lines.append(f\"{pred_names[predicate]}(A, B) :- {','.join(ret)}\")\n",
    "    return '\\n'.join(lines)"
   ]
  },
  {
   "cell_type": "code",
   "execution_count": 19,
   "metadata": {},
   "outputs": [
    {
     "name": "stdout",
     "output_type": "stream",
     "text": [
      "p(A, B) :- false(A,C),false(C,B)\n",
      "p(A, B) :- false(B,C),false(B,B)\n"
     ]
    }
   ],
   "source": [
    "print(rule_str([2,3], predicate=2, rulebook = rulebook))"
   ]
  },
  {
   "cell_type": "code",
   "execution_count": 20,
   "metadata": {},
   "outputs": [],
   "source": [
    "def extend_val(val : torch.Tensor, vars : int = 3) -> torch.Tensor:\n",
    "    i = 0\n",
    "    ret = []\n",
    "    shape = list(val.shape) + [val.shape[-1] for _ in range(0, vars - 2)]\n",
    "    valt = val.transpose(1, 2)\n",
    "    for arg1 in range(0, vars):\n",
    "        for arg2 in range(0, vars):\n",
    "            v = val\n",
    "            if arg1 == arg2:\n",
    "                v = v.diagonal(dim1=1,dim2=2)\n",
    "                for _ in range(0, arg1):\n",
    "                    v = v.unsqueeze(1)\n",
    "                while len(v.shape) < vars+1:\n",
    "                    v = v.unsqueeze(-1)\n",
    "            else:\n",
    "                if arg2 < arg1:\n",
    "                    v = valt\n",
    "                unused = (x for x in range(0, vars) if x not in {arg1, arg2})\n",
    "                for u in unused:\n",
    "                    v = v.unsqueeze(u + 1)\n",
    "            logging.debug(f\"{i=} {arg1=} {arg2=} {v.shape=}\")\n",
    "            v = torch.broadcast_to(v, shape) #type: ignore\n",
    "            v = v.unsqueeze(1)\n",
    "            ret.append(v)\n",
    "            i += 1\n",
    "    return torch.cat(ret, dim=1)"
   ]
  },
  {
   "cell_type": "code",
   "execution_count": 21,
   "metadata": {},
   "outputs": [
    {
     "name": "stderr",
     "output_type": "stream",
     "text": [
      "DEBUG:root:i=0 arg1=0 arg2=0 v.shape=torch.Size([4, 5, 1, 1])\n",
      "DEBUG:root:i=1 arg1=0 arg2=1 v.shape=torch.Size([4, 5, 5, 1])\n",
      "DEBUG:root:i=2 arg1=0 arg2=2 v.shape=torch.Size([4, 5, 1, 5])\n",
      "DEBUG:root:i=3 arg1=1 arg2=0 v.shape=torch.Size([4, 5, 5, 1])\n",
      "DEBUG:root:i=4 arg1=1 arg2=1 v.shape=torch.Size([4, 1, 5, 1])\n",
      "DEBUG:root:i=5 arg1=1 arg2=2 v.shape=torch.Size([4, 1, 5, 5])\n",
      "DEBUG:root:i=6 arg1=2 arg2=0 v.shape=torch.Size([4, 5, 1, 5])\n",
      "DEBUG:root:i=7 arg1=2 arg2=1 v.shape=torch.Size([4, 1, 5, 5])\n",
      "DEBUG:root:i=8 arg1=2 arg2=2 v.shape=torch.Size([4, 1, 1, 5])\n"
     ]
    },
    {
     "data": {
      "text/plain": [
       "torch.Size([4, 9, 5, 5, 5])"
      ]
     },
     "execution_count": 21,
     "metadata": {},
     "output_type": "execute_result"
    }
   ],
   "source": [
    "val2 = extend_val(base_val)\n",
    "val2.shape"
   ]
  },
  {
   "cell_type": "code",
   "execution_count": 22,
   "metadata": {},
   "outputs": [],
   "source": [
    "def disjuction2(a : torch.Tensor, b : torch.Tensor) -> torch.Tensor:\n",
    "    return 1 - (1 - a) * (1 - b)\n",
    "\n",
    "def disjunction_dim(a : torch.Tensor, dim : int = -1) -> torch.Tensor:\n",
    "    return 1 - ((1 - a).prod(dim = dim))"
   ]
  },
  {
   "cell_type": "code",
   "execution_count": 23,
   "metadata": {},
   "outputs": [],
   "source": [
    "\n",
    "def conjuction2(a : torch.Tensor, b : torch.Tensor) -> torch.Tensor:\n",
    "    return a * b\n",
    "def conjunction_dim(a : torch.Tensor, dim : int = -1) -> torch.Tensor:\n",
    "    return a.prod(dim=dim)"
   ]
  },
  {
   "cell_type": "code",
   "execution_count": 24,
   "metadata": {},
   "outputs": [
    {
     "data": {
      "text/plain": [
       "1"
      ]
     },
     "execution_count": 24,
     "metadata": {},
     "output_type": "execute_result"
    }
   ],
   "source": [
    "disjuction2(0, 1)"
   ]
  },
  {
   "cell_type": "code",
   "execution_count": 25,
   "metadata": {},
   "outputs": [],
   "source": [
    "def infer_single_step(ex_val : torch.Tensor, rules : Rulebook, rule_weights : torch.Tensor) -> torch.Tensor:\n",
    "    logging.debug(f\"{ex_val.shape=} {rules.body_predicates.shape=} {rules.variable_choices.shape=}\")\n",
    "    ex_val = ex_val[rules.body_predicates, rules.variable_choices]\n",
    "    logging.debug(f\"{ex_val.shape=}\")\n",
    "    #conjuction of body predictes\n",
    "    ex_val = conjunction_dim(ex_val, dim = 3)\n",
    "    #existential quantification\n",
    "    ex_val = disjunction_dim(ex_val, dim = -1)\n",
    "    #rule weighing\n",
    "    rule_weights = rule_weights.softmax(-1).unsqueeze(-1).unsqueeze(-1)\n",
    "    ex_val = ex_val * rule_weights\n",
    "    ex_val = ex_val.sum(dim = 2)\n",
    "    #disjunction on clauses\n",
    "    ex_val = disjunction_dim(ex_val, dim = 1)\n",
    "    return ex_val"
   ]
  },
  {
   "cell_type": "code",
   "execution_count": 27,
   "metadata": {},
   "outputs": [
    {
     "name": "stderr",
     "output_type": "stream",
     "text": [
      "DEBUG:root:i=0 arg1=0 arg2=0 v.shape=torch.Size([4, 5, 1, 1])\n",
      "DEBUG:root:i=1 arg1=0 arg2=1 v.shape=torch.Size([4, 5, 5, 1])\n",
      "DEBUG:root:i=2 arg1=0 arg2=2 v.shape=torch.Size([4, 5, 1, 5])\n",
      "DEBUG:root:i=3 arg1=1 arg2=0 v.shape=torch.Size([4, 5, 5, 1])\n",
      "DEBUG:root:i=4 arg1=1 arg2=1 v.shape=torch.Size([4, 1, 5, 1])\n",
      "DEBUG:root:i=5 arg1=1 arg2=2 v.shape=torch.Size([4, 1, 5, 5])\n",
      "DEBUG:root:i=6 arg1=2 arg2=0 v.shape=torch.Size([4, 5, 1, 5])\n",
      "DEBUG:root:i=7 arg1=2 arg2=1 v.shape=torch.Size([4, 1, 5, 5])\n",
      "DEBUG:root:i=8 arg1=2 arg2=2 v.shape=torch.Size([4, 1, 1, 5])\n"
     ]
    },
    {
     "ename": "IndexError",
     "evalue": "shape mismatch: indexing tensors could not be broadcast together with shapes [6, 2, 11, 2], [4, 2, 11, 2]",
     "output_type": "error",
     "traceback": [
      "\u001b[0;31m---------------------------------------------------------------------------\u001b[0m",
      "\u001b[0;31mIndexError\u001b[0m                                Traceback (most recent call last)",
      "\u001b[0;32m/tmp/ipykernel_2007/268767937.py\u001b[0m in \u001b[0;36m<module>\u001b[0;34m\u001b[0m\n\u001b[1;32m      4\u001b[0m \u001b[0;32mfor\u001b[0m \u001b[0m_\u001b[0m \u001b[0;32min\u001b[0m \u001b[0mrange\u001b[0m\u001b[0;34m(\u001b[0m\u001b[0;36m0\u001b[0m\u001b[0;34m,\u001b[0m\u001b[0;36m5\u001b[0m\u001b[0;34m)\u001b[0m\u001b[0;34m:\u001b[0m\u001b[0;34m\u001b[0m\u001b[0;34m\u001b[0m\u001b[0m\n\u001b[1;32m      5\u001b[0m     \u001b[0mval2\u001b[0m \u001b[0;34m=\u001b[0m \u001b[0mextend_val\u001b[0m\u001b[0;34m(\u001b[0m\u001b[0mval\u001b[0m\u001b[0;34m)\u001b[0m\u001b[0;34m\u001b[0m\u001b[0;34m\u001b[0m\u001b[0m\n\u001b[0;32m----> 6\u001b[0;31m     \u001b[0mval2\u001b[0m \u001b[0;34m=\u001b[0m \u001b[0minfer_single_step\u001b[0m\u001b[0;34m(\u001b[0m\u001b[0mval2\u001b[0m\u001b[0;34m,\u001b[0m \u001b[0mrulebook\u001b[0m\u001b[0;34m,\u001b[0m \u001b[0mweights\u001b[0m\u001b[0;34m)\u001b[0m\u001b[0;34m\u001b[0m\u001b[0;34m\u001b[0m\u001b[0m\n\u001b[0m\u001b[1;32m      7\u001b[0m     \u001b[0mval\u001b[0m \u001b[0;34m=\u001b[0m \u001b[0mdisjuction2\u001b[0m\u001b[0;34m(\u001b[0m\u001b[0mval\u001b[0m\u001b[0;34m,\u001b[0m \u001b[0mval2\u001b[0m\u001b[0;34m)\u001b[0m\u001b[0;34m\u001b[0m\u001b[0;34m\u001b[0m\u001b[0m\n\u001b[1;32m      8\u001b[0m     \u001b[0;32mdel\u001b[0m \u001b[0mval2\u001b[0m\u001b[0;34m\u001b[0m\u001b[0;34m\u001b[0m\u001b[0m\n",
      "\u001b[0;32m/tmp/ipykernel_2007/3830403741.py\u001b[0m in \u001b[0;36minfer_single_step\u001b[0;34m(ex_val, rules, rule_weights)\u001b[0m\n\u001b[1;32m      1\u001b[0m \u001b[0;32mdef\u001b[0m \u001b[0minfer_single_step\u001b[0m\u001b[0;34m(\u001b[0m\u001b[0mex_val\u001b[0m \u001b[0;34m:\u001b[0m \u001b[0mtorch\u001b[0m\u001b[0;34m.\u001b[0m\u001b[0mTensor\u001b[0m\u001b[0;34m,\u001b[0m \u001b[0mrules\u001b[0m \u001b[0;34m:\u001b[0m \u001b[0mRulebook\u001b[0m\u001b[0;34m,\u001b[0m \u001b[0mrule_weights\u001b[0m \u001b[0;34m:\u001b[0m \u001b[0mtorch\u001b[0m\u001b[0;34m.\u001b[0m\u001b[0mTensor\u001b[0m\u001b[0;34m)\u001b[0m \u001b[0;34m->\u001b[0m \u001b[0mtorch\u001b[0m\u001b[0;34m.\u001b[0m\u001b[0mTensor\u001b[0m\u001b[0;34m:\u001b[0m\u001b[0;34m\u001b[0m\u001b[0;34m\u001b[0m\u001b[0m\n\u001b[0;32m----> 2\u001b[0;31m     \u001b[0mex_val\u001b[0m \u001b[0;34m=\u001b[0m \u001b[0mex_val\u001b[0m\u001b[0;34m[\u001b[0m\u001b[0mrules\u001b[0m\u001b[0;34m.\u001b[0m\u001b[0mbody_predicates\u001b[0m\u001b[0;34m,\u001b[0m \u001b[0mrules\u001b[0m\u001b[0;34m.\u001b[0m\u001b[0mvariable_choices\u001b[0m\u001b[0;34m]\u001b[0m\u001b[0;34m\u001b[0m\u001b[0;34m\u001b[0m\u001b[0m\n\u001b[0m\u001b[1;32m      3\u001b[0m     \u001b[0;31m#existential quantification\u001b[0m\u001b[0;34m\u001b[0m\u001b[0;34m\u001b[0m\u001b[0;34m\u001b[0m\u001b[0m\n\u001b[1;32m      4\u001b[0m     \u001b[0mex_val\u001b[0m \u001b[0;34m=\u001b[0m \u001b[0mdisjunction_dim\u001b[0m\u001b[0;34m(\u001b[0m\u001b[0mex_val\u001b[0m\u001b[0;34m,\u001b[0m \u001b[0mdim\u001b[0m \u001b[0;34m=\u001b[0m \u001b[0;34m-\u001b[0m\u001b[0;36m1\u001b[0m\u001b[0;34m)\u001b[0m\u001b[0;34m\u001b[0m\u001b[0;34m\u001b[0m\u001b[0m\n\u001b[1;32m      5\u001b[0m     \u001b[0;31m#conjuction of body predictes\u001b[0m\u001b[0;34m\u001b[0m\u001b[0;34m\u001b[0m\u001b[0;34m\u001b[0m\u001b[0m\n",
      "\u001b[0;31mIndexError\u001b[0m: shape mismatch: indexing tensors could not be broadcast together with shapes [6, 2, 11, 2], [4, 2, 11, 2]"
     ]
    }
   ],
   "source": [
    "val = base_val\n",
    "weights = torch.rand(4, 2, 11)\n",
    "        #predicate, clause, rule\n",
    "for _ in range(0,5):\n",
    "    val2 = extend_val(val)\n",
    "    val2 = infer_single_step(val2, rulebook, weights)\n",
    "    val = disjuction2(val, val2)\n",
    "    del val2"
   ]
  },
  {
   "cell_type": "code",
   "execution_count": null,
   "metadata": {},
   "outputs": [
    {
     "data": {
      "text/plain": [
       "torch.Size([4, 5, 5])"
      ]
     },
     "execution_count": 21,
     "metadata": {},
     "output_type": "execute_result"
    }
   ],
   "source": [
    "val.shape"
   ]
  },
  {
   "cell_type": "code",
   "execution_count": null,
   "metadata": {},
   "outputs": [],
   "source": [
    "targets = torch.as_tensor([\n",
    "        [2,0,2],\n",
    "        [2,1,3],\n",
    "        [2,2,4],\n",
    "        [2,1,1],\n",
    "        [2,3,2],\n",
    "        [2,0,0],\n",
    "        [2,0,1]\n",
    "    ])\n",
    "target_values = torch.as_tensor([\n",
    "        1.0,\n",
    "        1.0,\n",
    "        1.0,\n",
    "        0.0,\n",
    "        0.0,\n",
    "        0.0,\n",
    "        0.0,])\n"
   ]
  },
  {
   "cell_type": "code",
   "execution_count": null,
   "metadata": {},
   "outputs": [
    {
     "ename": "IndexError",
     "evalue": "index_select(): Index is supposed to be a vector",
     "output_type": "error",
     "traceback": [
      "\u001b[0;31m---------------------------------------------------------------------------\u001b[0m",
      "\u001b[0;31mIndexError\u001b[0m                                Traceback (most recent call last)",
      "\u001b[0;32m/tmp/ipykernel_18343/477651596.py\u001b[0m in \u001b[0;36m<module>\u001b[0;34m\u001b[0m\n\u001b[0;32m----> 1\u001b[0;31m \u001b[0mtorch\u001b[0m\u001b[0;34m.\u001b[0m\u001b[0mindex_select\u001b[0m\u001b[0;34m(\u001b[0m\u001b[0mval\u001b[0m\u001b[0;34m,\u001b[0m \u001b[0;36m0\u001b[0m\u001b[0;34m,\u001b[0m \u001b[0mtargets\u001b[0m\u001b[0;34m)\u001b[0m\u001b[0;34m\u001b[0m\u001b[0;34m\u001b[0m\u001b[0m\n\u001b[0m",
      "\u001b[0;31mIndexError\u001b[0m: index_select(): Index is supposed to be a vector"
     ]
    }
   ],
   "source": [
    "torch.index_select(val, 0, targets)"
   ]
  },
  {
   "cell_type": "code",
   "execution_count": null,
   "metadata": {},
   "outputs": [
    {
     "data": {
      "text/plain": [
       "tensor([0.9647, 0.9756, 0.9717, 0.9756, 0.9943, 0.6638, 0.9871])"
      ]
     },
     "execution_count": 42,
     "metadata": {},
     "output_type": "execute_result"
    }
   ],
   "source": [
    "val[targets[:,0],targets[:,1],targets[:,2]]"
   ]
  },
  {
   "cell_type": "code",
   "execution_count": null,
   "metadata": {},
   "outputs": [],
   "source": []
  }
 ],
 "metadata": {
  "interpreter": {
   "hash": "df0893f56f349688326838aaeea0de204df53a132722cbd565e54b24a8fec5f6"
  },
  "kernelspec": {
   "display_name": "Python 3.8.12 64-bit",
   "language": "python",
   "name": "python3"
  },
  "language_info": {
   "codemirror_mode": {
    "name": "ipython",
    "version": 3
   },
   "file_extension": ".py",
   "mimetype": "text/x-python",
   "name": "python",
   "nbconvert_exporter": "python",
   "pygments_lexer": "ipython3",
   "version": "3.8.12"
  },
  "orig_nbformat": 4
 },
 "nbformat": 4,
 "nbformat_minor": 2
}
